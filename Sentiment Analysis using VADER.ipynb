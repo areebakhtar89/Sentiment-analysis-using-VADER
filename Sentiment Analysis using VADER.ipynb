{
 "cells": [
  {
   "cell_type": "code",
   "execution_count": 2,
   "metadata": {
    "ExecuteTime": {
     "end_time": "2020-11-10T19:26:52.497298Z",
     "start_time": "2020-11-10T19:26:52.494302Z"
    }
   },
   "outputs": [],
   "source": [
    "# pip install vaderSentiment"
   ]
  },
  {
   "cell_type": "code",
   "execution_count": null,
   "metadata": {
    "ExecuteTime": {
     "end_time": "2020-11-10T19:27:58.071066Z",
     "start_time": "2020-11-10T19:27:57.965297Z"
    }
   },
   "outputs": [],
   "source": [
    "from vaderSentiment.vaderSentiment import SentimentIntensityAnalyzer \n",
    "  \n",
    "# function to print sentiments \n",
    "# of the sentence. \n",
    "def sentiment_scores(sentence): \n",
    "  \n",
    "    # Create a SentimentIntensityAnalyzer object. \n",
    "    sid_obj = SentimentIntensityAnalyzer() \n",
    "  \n",
    "    # polarity_scores method of SentimentIntensityAnalyzer \n",
    "    # oject gives a sentiment dictionary. \n",
    "    # which contains pos, neg, neu, and compound scores. \n",
    "    sentiment_dict = sid_obj.polarity_scores(sentence) \n",
    "      \n",
    "    print(\"Overall sentiment dictionary is : \", sentiment_dict) \n",
    "    print(\"sentence was rated as \", sentiment_dict['neg']*100, \"% Negative\") \n",
    "    print(\"sentence was rated as \", sentiment_dict['neu']*100, \"% Neutral\") \n",
    "    print(\"sentence was rated as \", sentiment_dict['pos']*100, \"% Positive\") \n",
    "  \n",
    "    print(\"Sentence Overall Rated As\", end = \" \") \n",
    "  \n",
    "    # decide sentiment as positive, negative and neutral \n",
    "    if sentiment_dict['compound'] >= 0.05 : \n",
    "        print(\"Positive\") \n",
    "  \n",
    "    elif sentiment_dict['compound'] <= - 0.05 : \n",
    "        print(\"Negative\") \n",
    "  \n",
    "    else : \n",
    "        print(\"Neutral\") \n",
    "  \n",
    "  \n",
    "    "
   ]
  },
  {
   "cell_type": "code",
   "execution_count": 7,
   "metadata": {
    "ExecuteTime": {
     "end_time": "2020-11-10T19:32:25.547823Z",
     "start_time": "2020-11-10T19:32:25.461056Z"
    }
   },
   "outputs": [
    {
     "name": "stdout",
     "output_type": "stream",
     "text": [
      "\n",
      "1st statement :\n",
      "Overall sentiment dictionary is :  {'neg': 0.509, 'neu': 0.491, 'pos': 0.0, 'compound': -0.6296}\n",
      "sentence was rated as  50.9 % Negative\n",
      "sentence was rated as  49.1 % Neutral\n",
      "sentence was rated as  0.0 % Positive\n",
      "Sentence Overall Rated As Negative\n",
      "\n",
      "2nd Statement :\n",
      "Overall sentiment dictionary is :  {'neg': 0.0, 'neu': 0.55, 'pos': 0.45, 'compound': 0.5994}\n",
      "sentence was rated as  0.0 % Negative\n",
      "sentence was rated as  55.00000000000001 % Neutral\n",
      "sentence was rated as  45.0 % Positive\n",
      "Sentence Overall Rated As Positive\n",
      "\n",
      "3rd Statement :\n",
      "Overall sentiment dictionary is :  {'neg': 0.0, 'neu': 0.735, 'pos': 0.265, 'compound': 0.2023}\n",
      "sentence was rated as  0.0 % Negative\n",
      "sentence was rated as  73.5 % Neutral\n",
      "sentence was rated as  26.5 % Positive\n",
      "Sentence Overall Rated As Positive\n",
      "\n",
      "4rd Statement :\n",
      "Overall sentiment dictionary is :  {'neg': 0.0, 'neu': 0.662, 'pos': 0.338, 'compound': 0.3724}\n",
      "sentence was rated as  0.0 % Negative\n",
      "sentence was rated as  66.2 % Neutral\n",
      "sentence was rated as  33.800000000000004 % Positive\n",
      "Sentence Overall Rated As Positive\n",
      "\n",
      "4rd Statement :\n",
      "Overall sentiment dictionary is :  {'neg': 0.209, 'neu': 0.791, 'pos': 0.0, 'compound': -0.2755}\n",
      "sentence was rated as  20.9 % Negative\n",
      "sentence was rated as  79.10000000000001 % Neutral\n",
      "sentence was rated as  0.0 % Positive\n",
      "Sentence Overall Rated As Negative\n"
     ]
    }
   ],
   "source": [
 
    "if __name__ == \"__main__\" : \n",
    "  \n",
    "    print(\"\\n1st statement :\") \n",
    "    sentence = \"Movie is not so great\" \n",
    "    sentiment_scores(sentence) \n",
    "  \n",
    "    print(\"\\n2nd Statement :\") \n",
    "    sentence = \"An evening at amusement park will be adventurous\"\n",
    "    sentiment_scores(sentence) \n",
    "  \n",
    "    print(\"\\n3rd Statement :\") \n",
    "    sentence = \"I am vey absoleutly fine today\"\n",
    "    sentiment_scores(sentence) \n",
    "    \n",
    "    print(\"\\n4rd Statement :\") \n",
    "    sentence = \"I am not going to cry\"\n",
    "    sentiment_scores(sentence) \n",
    "    \n",
    "    print(\"\\n4rd Statement :\") \n",
    "    sentence = \"I do not feel like going to work today\"\n",
    "    sentiment_scores(sentence) "
   ]
  }
 ],
 "metadata": {
  "kernelspec": {
   "display_name": "Python 3",
   "language": "python",
   "name": "python3"
  },
  "language_info": {
   "codemirror_mode": {
    "name": "ipython",
    "version": 3
   },
   "file_extension": ".py",
   "mimetype": "text/x-python",
   "name": "python",
   "nbconvert_exporter": "python",
   "pygments_lexer": "ipython3",
   "version": "3.7.6"
  },
  "toc": {
   "base_numbering": 1,
   "nav_menu": {},
   "number_sections": true,
   "sideBar": true,
   "skip_h1_title": false,
   "title_cell": "Table of Contents",
   "title_sidebar": "Contents",
   "toc_cell": false,
   "toc_position": {},
   "toc_section_display": true,
   "toc_window_display": false
  }
 },
 "nbformat": 4,
 "nbformat_minor": 4
}
